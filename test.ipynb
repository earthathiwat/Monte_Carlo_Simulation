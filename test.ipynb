{
 "cells": [
  {
   "cell_type": "code",
   "execution_count": null,
   "metadata": {},
   "outputs": [],
   "source": [
    "import random\n",
    "\n",
    "class Card:\n",
    "    def __init__(self, val, suit):\n",
    "        self.value = val\n",
    "        self.suit = suit\n",
    "\n",
    "    def show(self):\n",
    "        print(self.value, self.suit)\n",
    "\n",
    "class Deck:\n",
    "    def __init__(self):\n",
    "        self.cards = []\n",
    "        self.generate()\n",
    "    \n",
    "    def generate(self):\n",
    "        for suit in ['spades', 'clubs', 'diamonds', 'hearts']:\n",
    "            for val in range(2,15):\n",
    "                self.cards.append(Card(val, suit))\n",
    "\n",
    "    def show(self):\n",
    "        for card in self.cards:\n",
    "            card.show()\n",
    "    \n",
    "    def shuffle(self):\n",
    "        for i in range(len(self.cards) -1, 0, -1):\n",
    "            r = random.randint(0, i)\n",
    "            self.cards[i], self.cards[r] = self.cards[r], self.cards[i]\n",
    "\n",
    "    def drawCard(self):\n",
    "        return self.cards.pop()\n",
    "\n",
    "class Player:\n",
    "    def __init__(self, name):\n",
    "        self.name = name\n",
    "        self.hand = []\n",
    "\n",
    "    def draw(self, deck):\n",
    "        self.hand.append(deck.drawCard())\n",
    "        return self\n",
    "    \n",
    "    def showHand(self):\n",
    "        for card in self.hand:\n",
    "            card.show()\n",
    "\n",
    "deck = Deck()\n",
    "deck.shuffle()\n",
    "\n",
    "p1 = Player('Player1')\n",
    "p1.draw(deck)\n",
    "p1.showHand()"
   ]
  }
 ],
 "metadata": {
  "kernelspec": {
   "display_name": "Python 3",
   "language": "python",
   "name": "python3"
  },
  "language_info": {
   "name": "python",
   "version": "3.10.7"
  },
  "orig_nbformat": 4,
  "vscode": {
   "interpreter": {
    "hash": "b9824b451df2f8368e5820f5c6ecfdca5bbc995e80aa6c686709d389d35acdfb"
   }
  }
 },
 "nbformat": 4,
 "nbformat_minor": 2
}
